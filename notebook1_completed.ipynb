{
  "nbformat": 4,
  "nbformat_minor": 0,
  "metadata": {
    "colab": {
      "name": "notebook1_completed",
      "provenance": [],
      "collapsed_sections": []
    },
    "kernelspec": {
      "name": "python3",
      "display_name": "Python 3"
    }
  },
  "cells": [
    {
      "cell_type": "markdown",
      "metadata": {
        "id": "DnNsXfnFGuYm"
      },
      "source": [
        "Alex Reznicek"
      ]
    },
    {
      "cell_type": "markdown",
      "metadata": {
        "id": "8V1Slz52hI39"
      },
      "source": [
        "# Notebook #1: Python, Pandas, and Pokemon, Oh My!\n",
        "\n",
        "**Due 2/16 by 11:59pm**\n",
        "\n",
        "The goal of this notebook is to become comfortable with using `python` and `pandas` as well as grabbing specific slices of the dataset. \n",
        "\n",
        "Start off by importing the data as we did in `practice-assignment`. Make sure the data is in your Google Drive, and that you update the path to point to where you have your data saved in Drive."
      ]
    },
    {
      "cell_type": "markdown",
      "metadata": {
        "id": "YHC7kUaIGUVm"
      },
      "source": [
        ""
      ]
    },
    {
      "cell_type": "code",
      "metadata": {
        "id": "yMLe0EWyLXqZ",
        "colab": {
          "base_uri": "https://localhost:8080/"
        },
        "outputId": "6b9b408e-8ca4-4b74-f1ef-7ff2407167a0"
      },
      "source": [
        "import pandas as pd\n",
        "from google.colab import drive\n",
        "drive.mount('/content/drive')"
      ],
      "execution_count": null,
      "outputs": [
        {
          "output_type": "stream",
          "text": [
            "Mounted at /content/drive\n"
          ],
          "name": "stdout"
        }
      ]
    },
    {
      "cell_type": "code",
      "metadata": {
        "id": "cH-odZShMDUH",
        "colab": {
          "base_uri": "https://localhost:8080/",
          "height": 194
        },
        "outputId": "4074bae5-6f9b-4ac0-e846-ca39191b2dfc"
      },
      "source": [
        "#import the data:\n",
        "\n",
        "#make sure the path on the line below corresponds to the path where you put your dataset.\n",
        "poke = pd.read_csv('/content/drive/MyDrive/MachineLearning/pokemon.csv')\n",
        "poke.head()"
      ],
      "execution_count": null,
      "outputs": [
        {
          "output_type": "execute_result",
          "data": {
            "text/html": [
              "<div>\n",
              "<style scoped>\n",
              "    .dataframe tbody tr th:only-of-type {\n",
              "        vertical-align: middle;\n",
              "    }\n",
              "\n",
              "    .dataframe tbody tr th {\n",
              "        vertical-align: top;\n",
              "    }\n",
              "\n",
              "    .dataframe thead th {\n",
              "        text-align: right;\n",
              "    }\n",
              "</style>\n",
              "<table border=\"1\" class=\"dataframe\">\n",
              "  <thead>\n",
              "    <tr style=\"text-align: right;\">\n",
              "      <th></th>\n",
              "      <th>#</th>\n",
              "      <th>Name</th>\n",
              "      <th>Type 1</th>\n",
              "      <th>Type 2</th>\n",
              "      <th>Total</th>\n",
              "      <th>HP</th>\n",
              "      <th>Attack</th>\n",
              "      <th>Defense</th>\n",
              "      <th>Sp. Atk</th>\n",
              "      <th>Sp. Def</th>\n",
              "      <th>Speed</th>\n",
              "      <th>Generation</th>\n",
              "      <th>Legendary</th>\n",
              "    </tr>\n",
              "  </thead>\n",
              "  <tbody>\n",
              "    <tr>\n",
              "      <th>0</th>\n",
              "      <td>1</td>\n",
              "      <td>Bulbasaur</td>\n",
              "      <td>Grass</td>\n",
              "      <td>Poison</td>\n",
              "      <td>318</td>\n",
              "      <td>45</td>\n",
              "      <td>49</td>\n",
              "      <td>49</td>\n",
              "      <td>65</td>\n",
              "      <td>65</td>\n",
              "      <td>45</td>\n",
              "      <td>1</td>\n",
              "      <td>False</td>\n",
              "    </tr>\n",
              "    <tr>\n",
              "      <th>1</th>\n",
              "      <td>2</td>\n",
              "      <td>Ivysaur</td>\n",
              "      <td>Grass</td>\n",
              "      <td>Poison</td>\n",
              "      <td>405</td>\n",
              "      <td>60</td>\n",
              "      <td>62</td>\n",
              "      <td>63</td>\n",
              "      <td>80</td>\n",
              "      <td>80</td>\n",
              "      <td>60</td>\n",
              "      <td>1</td>\n",
              "      <td>False</td>\n",
              "    </tr>\n",
              "    <tr>\n",
              "      <th>2</th>\n",
              "      <td>3</td>\n",
              "      <td>Venusaur</td>\n",
              "      <td>Grass</td>\n",
              "      <td>Poison</td>\n",
              "      <td>525</td>\n",
              "      <td>80</td>\n",
              "      <td>82</td>\n",
              "      <td>83</td>\n",
              "      <td>100</td>\n",
              "      <td>100</td>\n",
              "      <td>80</td>\n",
              "      <td>1</td>\n",
              "      <td>False</td>\n",
              "    </tr>\n",
              "    <tr>\n",
              "      <th>3</th>\n",
              "      <td>3</td>\n",
              "      <td>VenusaurMega Venusaur</td>\n",
              "      <td>Grass</td>\n",
              "      <td>Poison</td>\n",
              "      <td>625</td>\n",
              "      <td>80</td>\n",
              "      <td>100</td>\n",
              "      <td>123</td>\n",
              "      <td>122</td>\n",
              "      <td>120</td>\n",
              "      <td>80</td>\n",
              "      <td>1</td>\n",
              "      <td>False</td>\n",
              "    </tr>\n",
              "    <tr>\n",
              "      <th>4</th>\n",
              "      <td>4</td>\n",
              "      <td>Charmander</td>\n",
              "      <td>Fire</td>\n",
              "      <td>NaN</td>\n",
              "      <td>309</td>\n",
              "      <td>39</td>\n",
              "      <td>52</td>\n",
              "      <td>43</td>\n",
              "      <td>60</td>\n",
              "      <td>50</td>\n",
              "      <td>65</td>\n",
              "      <td>1</td>\n",
              "      <td>False</td>\n",
              "    </tr>\n",
              "  </tbody>\n",
              "</table>\n",
              "</div>"
            ],
            "text/plain": [
              "   #                   Name Type 1  ... Speed  Generation  Legendary\n",
              "0  1              Bulbasaur  Grass  ...    45           1      False\n",
              "1  2                Ivysaur  Grass  ...    60           1      False\n",
              "2  3               Venusaur  Grass  ...    80           1      False\n",
              "3  3  VenusaurMega Venusaur  Grass  ...    80           1      False\n",
              "4  4             Charmander   Fire  ...    65           1      False\n",
              "\n",
              "[5 rows x 13 columns]"
            ]
          },
          "metadata": {
            "tags": []
          },
          "execution_count": 3
        }
      ]
    },
    {
      "cell_type": "markdown",
      "metadata": {
        "id": "YtBWVQpFiQpc"
      },
      "source": [
        "## Exercise #1: \n",
        "Print out all of the possible values for the primary type of pokemon."
      ]
    },
    {
      "cell_type": "code",
      "metadata": {
        "id": "eE_ZrSrQV2_0",
        "colab": {
          "base_uri": "https://localhost:8080/"
        },
        "outputId": "40555e67-4fa2-4a16-81ef-b61e3ed2c739"
      },
      "source": [
        "poke['Type 1'].unique()"
      ],
      "execution_count": null,
      "outputs": [
        {
          "output_type": "execute_result",
          "data": {
            "text/plain": [
              "array(['Grass', 'Fire', 'Water', 'Bug', 'Normal', 'Poison', 'Electric',\n",
              "       'Ground', 'Fairy', 'Fighting', 'Psychic', 'Rock', 'Ghost', 'Ice',\n",
              "       'Dragon', 'Dark', 'Steel', 'Flying'], dtype=object)"
            ]
          },
          "metadata": {
            "tags": []
          },
          "execution_count": 6
        }
      ]
    },
    {
      "cell_type": "markdown",
      "metadata": {
        "id": "poxyHULTVpcv"
      },
      "source": [
        "## Exercise #2:\n",
        "Create a subset of data representing pokemon whose primary type is Bug 🐛, and the second type is Poison 💀. Save this DataFrame to the variable name `bug_poison_pokemon`. Display the first 5 lines of this subset."
      ]
    },
    {
      "cell_type": "code",
      "metadata": {
        "id": "XFTTrwtTYESB",
        "colab": {
          "base_uri": "https://localhost:8080/",
          "height": 194
        },
        "outputId": "fb00736c-26f9-4a24-cfe4-a68c4e38a088"
      },
      "source": [
        "bug_poison_pokemon= poke[(poke['Type 1']==\"Bug\") & (poke['Type 2']==\"Poison\")]\r\n",
        "bug_poison_pokemon.head()"
      ],
      "execution_count": null,
      "outputs": [
        {
          "output_type": "execute_result",
          "data": {
            "text/html": [
              "<div>\n",
              "<style scoped>\n",
              "    .dataframe tbody tr th:only-of-type {\n",
              "        vertical-align: middle;\n",
              "    }\n",
              "\n",
              "    .dataframe tbody tr th {\n",
              "        vertical-align: top;\n",
              "    }\n",
              "\n",
              "    .dataframe thead th {\n",
              "        text-align: right;\n",
              "    }\n",
              "</style>\n",
              "<table border=\"1\" class=\"dataframe\">\n",
              "  <thead>\n",
              "    <tr style=\"text-align: right;\">\n",
              "      <th></th>\n",
              "      <th>#</th>\n",
              "      <th>Name</th>\n",
              "      <th>Type 1</th>\n",
              "      <th>Type 2</th>\n",
              "      <th>Total</th>\n",
              "      <th>HP</th>\n",
              "      <th>Attack</th>\n",
              "      <th>Defense</th>\n",
              "      <th>Sp. Atk</th>\n",
              "      <th>Sp. Def</th>\n",
              "      <th>Speed</th>\n",
              "      <th>Generation</th>\n",
              "      <th>Legendary</th>\n",
              "    </tr>\n",
              "  </thead>\n",
              "  <tbody>\n",
              "    <tr>\n",
              "      <th>16</th>\n",
              "      <td>13</td>\n",
              "      <td>Weedle</td>\n",
              "      <td>Bug</td>\n",
              "      <td>Poison</td>\n",
              "      <td>195</td>\n",
              "      <td>40</td>\n",
              "      <td>35</td>\n",
              "      <td>30</td>\n",
              "      <td>20</td>\n",
              "      <td>20</td>\n",
              "      <td>50</td>\n",
              "      <td>1</td>\n",
              "      <td>False</td>\n",
              "    </tr>\n",
              "    <tr>\n",
              "      <th>17</th>\n",
              "      <td>14</td>\n",
              "      <td>Kakuna</td>\n",
              "      <td>Bug</td>\n",
              "      <td>Poison</td>\n",
              "      <td>205</td>\n",
              "      <td>45</td>\n",
              "      <td>25</td>\n",
              "      <td>50</td>\n",
              "      <td>25</td>\n",
              "      <td>25</td>\n",
              "      <td>35</td>\n",
              "      <td>1</td>\n",
              "      <td>False</td>\n",
              "    </tr>\n",
              "    <tr>\n",
              "      <th>18</th>\n",
              "      <td>15</td>\n",
              "      <td>Beedrill</td>\n",
              "      <td>Bug</td>\n",
              "      <td>Poison</td>\n",
              "      <td>395</td>\n",
              "      <td>65</td>\n",
              "      <td>90</td>\n",
              "      <td>40</td>\n",
              "      <td>45</td>\n",
              "      <td>80</td>\n",
              "      <td>75</td>\n",
              "      <td>1</td>\n",
              "      <td>False</td>\n",
              "    </tr>\n",
              "    <tr>\n",
              "      <th>19</th>\n",
              "      <td>15</td>\n",
              "      <td>BeedrillMega Beedrill</td>\n",
              "      <td>Bug</td>\n",
              "      <td>Poison</td>\n",
              "      <td>495</td>\n",
              "      <td>65</td>\n",
              "      <td>150</td>\n",
              "      <td>40</td>\n",
              "      <td>15</td>\n",
              "      <td>80</td>\n",
              "      <td>145</td>\n",
              "      <td>1</td>\n",
              "      <td>False</td>\n",
              "    </tr>\n",
              "    <tr>\n",
              "      <th>53</th>\n",
              "      <td>48</td>\n",
              "      <td>Venonat</td>\n",
              "      <td>Bug</td>\n",
              "      <td>Poison</td>\n",
              "      <td>305</td>\n",
              "      <td>60</td>\n",
              "      <td>55</td>\n",
              "      <td>50</td>\n",
              "      <td>40</td>\n",
              "      <td>55</td>\n",
              "      <td>45</td>\n",
              "      <td>1</td>\n",
              "      <td>False</td>\n",
              "    </tr>\n",
              "  </tbody>\n",
              "</table>\n",
              "</div>"
            ],
            "text/plain": [
              "     #                   Name Type 1  ... Speed  Generation  Legendary\n",
              "16  13                 Weedle    Bug  ...    50           1      False\n",
              "17  14                 Kakuna    Bug  ...    35           1      False\n",
              "18  15               Beedrill    Bug  ...    75           1      False\n",
              "19  15  BeedrillMega Beedrill    Bug  ...   145           1      False\n",
              "53  48                Venonat    Bug  ...    45           1      False\n",
              "\n",
              "[5 rows x 13 columns]"
            ]
          },
          "metadata": {
            "tags": []
          },
          "execution_count": 7
        }
      ]
    },
    {
      "cell_type": "markdown",
      "metadata": {
        "id": "VHl8SCudrePQ"
      },
      "source": [
        "## Exercise #3\n",
        "Using `bug_poison_pokemon`, what is the median Attack of Bug Poison Pokemon?"
      ]
    },
    {
      "cell_type": "code",
      "metadata": {
        "id": "ce2W4c8WbdQ-",
        "colab": {
          "base_uri": "https://localhost:8080/"
        },
        "outputId": "b5651f9e-3816-411f-b362-bab657344584"
      },
      "source": [
        "bug_poison_pokemon.Attack.median()"
      ],
      "execution_count": null,
      "outputs": [
        {
          "output_type": "execute_result",
          "data": {
            "text/plain": [
              "57.5"
            ]
          },
          "metadata": {
            "tags": []
          },
          "execution_count": 8
        }
      ]
    },
    {
      "cell_type": "markdown",
      "metadata": {
        "id": "0Y67fkLBrqg6"
      },
      "source": [
        "## Exercise #4\n",
        "Which primary type of pokemon is the overall strongest? (not looking for philsophical debates here, I'm looking at the average of the 'Total' column, grouped by Type--so Fire v Water v Grass etc.)."
      ]
    },
    {
      "cell_type": "code",
      "metadata": {
        "id": "w8um3sVor2Kn",
        "colab": {
          "base_uri": "https://localhost:8080/"
        },
        "outputId": "ef83b791-1959-44c7-9480-ab0e9d2ed57e"
      },
      "source": [
        "poke.groupby([\"Type 1\"])[\"Total\"].mean()\r\n",
        "#The strongest is Dragon with an average of 550"
      ],
      "execution_count": null,
      "outputs": [
        {
          "output_type": "execute_result",
          "data": {
            "text/plain": [
              "Type 1\n",
              "Bug         378.927536\n",
              "Dark        445.741935\n",
              "Dragon      550.531250\n",
              "Electric    443.409091\n",
              "Fairy       413.176471\n",
              "Fighting    416.444444\n",
              "Fire        458.076923\n",
              "Flying      485.000000\n",
              "Ghost       439.562500\n",
              "Grass       421.142857\n",
              "Ground      437.500000\n",
              "Ice         433.458333\n",
              "Normal      401.683673\n",
              "Poison      399.142857\n",
              "Psychic     475.947368\n",
              "Rock        453.750000\n",
              "Steel       487.703704\n",
              "Water       430.455357\n",
              "Name: Total, dtype: float64"
            ]
          },
          "metadata": {
            "tags": []
          },
          "execution_count": 6
        }
      ]
    },
    {
      "cell_type": "markdown",
      "metadata": {
        "id": "pc8_4_1Jr3D0"
      },
      "source": [
        "## Exercise #5\n",
        "Choose a generation of pokemon, and create a subset with only pokemon with this generation. In this subset, only include the following 5 columns in this order: the Generation, name, type 1, type 2, and total."
      ]
    },
    {
      "cell_type": "code",
      "metadata": {
        "id": "IsySCt7Lr7CM",
        "colab": {
          "base_uri": "https://localhost:8080/",
          "height": 458
        },
        "outputId": "09010822-920e-4107-a034-1b4f1b47d5b6"
      },
      "source": [
        "fire_gen1_subset= poke[(poke[\"Type 1\"]==\"Fire\")&( poke[\"Generation\"]==1)][['Generation', 'Name', \"Type 1\", \"Type 2\", \"Total\", \"HP\"]]\r\n",
        "fire_gen1_subset\r\n",
        "\r\n",
        "\r\n",
        "#subset by fire and Generation 1 just for fun"
      ],
      "execution_count": null,
      "outputs": [
        {
          "output_type": "execute_result",
          "data": {
            "text/html": [
              "<div>\n",
              "<style scoped>\n",
              "    .dataframe tbody tr th:only-of-type {\n",
              "        vertical-align: middle;\n",
              "    }\n",
              "\n",
              "    .dataframe tbody tr th {\n",
              "        vertical-align: top;\n",
              "    }\n",
              "\n",
              "    .dataframe thead th {\n",
              "        text-align: right;\n",
              "    }\n",
              "</style>\n",
              "<table border=\"1\" class=\"dataframe\">\n",
              "  <thead>\n",
              "    <tr style=\"text-align: right;\">\n",
              "      <th></th>\n",
              "      <th>Generation</th>\n",
              "      <th>Name</th>\n",
              "      <th>Type 1</th>\n",
              "      <th>Type 2</th>\n",
              "      <th>Total</th>\n",
              "      <th>HP</th>\n",
              "    </tr>\n",
              "  </thead>\n",
              "  <tbody>\n",
              "    <tr>\n",
              "      <th>4</th>\n",
              "      <td>1</td>\n",
              "      <td>Charmander</td>\n",
              "      <td>Fire</td>\n",
              "      <td>NaN</td>\n",
              "      <td>309</td>\n",
              "      <td>39</td>\n",
              "    </tr>\n",
              "    <tr>\n",
              "      <th>5</th>\n",
              "      <td>1</td>\n",
              "      <td>Charmeleon</td>\n",
              "      <td>Fire</td>\n",
              "      <td>NaN</td>\n",
              "      <td>405</td>\n",
              "      <td>58</td>\n",
              "    </tr>\n",
              "    <tr>\n",
              "      <th>6</th>\n",
              "      <td>1</td>\n",
              "      <td>Charizard</td>\n",
              "      <td>Fire</td>\n",
              "      <td>Flying</td>\n",
              "      <td>534</td>\n",
              "      <td>78</td>\n",
              "    </tr>\n",
              "    <tr>\n",
              "      <th>7</th>\n",
              "      <td>1</td>\n",
              "      <td>CharizardMega Charizard X</td>\n",
              "      <td>Fire</td>\n",
              "      <td>Dragon</td>\n",
              "      <td>634</td>\n",
              "      <td>78</td>\n",
              "    </tr>\n",
              "    <tr>\n",
              "      <th>8</th>\n",
              "      <td>1</td>\n",
              "      <td>CharizardMega Charizard Y</td>\n",
              "      <td>Fire</td>\n",
              "      <td>Flying</td>\n",
              "      <td>634</td>\n",
              "      <td>78</td>\n",
              "    </tr>\n",
              "    <tr>\n",
              "      <th>42</th>\n",
              "      <td>1</td>\n",
              "      <td>Vulpix</td>\n",
              "      <td>Fire</td>\n",
              "      <td>NaN</td>\n",
              "      <td>299</td>\n",
              "      <td>38</td>\n",
              "    </tr>\n",
              "    <tr>\n",
              "      <th>43</th>\n",
              "      <td>1</td>\n",
              "      <td>Ninetales</td>\n",
              "      <td>Fire</td>\n",
              "      <td>NaN</td>\n",
              "      <td>505</td>\n",
              "      <td>73</td>\n",
              "    </tr>\n",
              "    <tr>\n",
              "      <th>63</th>\n",
              "      <td>1</td>\n",
              "      <td>Growlithe</td>\n",
              "      <td>Fire</td>\n",
              "      <td>NaN</td>\n",
              "      <td>350</td>\n",
              "      <td>55</td>\n",
              "    </tr>\n",
              "    <tr>\n",
              "      <th>64</th>\n",
              "      <td>1</td>\n",
              "      <td>Arcanine</td>\n",
              "      <td>Fire</td>\n",
              "      <td>NaN</td>\n",
              "      <td>555</td>\n",
              "      <td>90</td>\n",
              "    </tr>\n",
              "    <tr>\n",
              "      <th>83</th>\n",
              "      <td>1</td>\n",
              "      <td>Ponyta</td>\n",
              "      <td>Fire</td>\n",
              "      <td>NaN</td>\n",
              "      <td>410</td>\n",
              "      <td>50</td>\n",
              "    </tr>\n",
              "    <tr>\n",
              "      <th>84</th>\n",
              "      <td>1</td>\n",
              "      <td>Rapidash</td>\n",
              "      <td>Fire</td>\n",
              "      <td>NaN</td>\n",
              "      <td>500</td>\n",
              "      <td>65</td>\n",
              "    </tr>\n",
              "    <tr>\n",
              "      <th>135</th>\n",
              "      <td>1</td>\n",
              "      <td>Magmar</td>\n",
              "      <td>Fire</td>\n",
              "      <td>NaN</td>\n",
              "      <td>495</td>\n",
              "      <td>65</td>\n",
              "    </tr>\n",
              "    <tr>\n",
              "      <th>147</th>\n",
              "      <td>1</td>\n",
              "      <td>Flareon</td>\n",
              "      <td>Fire</td>\n",
              "      <td>NaN</td>\n",
              "      <td>525</td>\n",
              "      <td>65</td>\n",
              "    </tr>\n",
              "    <tr>\n",
              "      <th>158</th>\n",
              "      <td>1</td>\n",
              "      <td>Moltres</td>\n",
              "      <td>Fire</td>\n",
              "      <td>Flying</td>\n",
              "      <td>580</td>\n",
              "      <td>90</td>\n",
              "    </tr>\n",
              "  </tbody>\n",
              "</table>\n",
              "</div>"
            ],
            "text/plain": [
              "     Generation                       Name Type 1  Type 2  Total  HP\n",
              "4             1                 Charmander   Fire     NaN    309  39\n",
              "5             1                 Charmeleon   Fire     NaN    405  58\n",
              "6             1                  Charizard   Fire  Flying    534  78\n",
              "7             1  CharizardMega Charizard X   Fire  Dragon    634  78\n",
              "8             1  CharizardMega Charizard Y   Fire  Flying    634  78\n",
              "42            1                     Vulpix   Fire     NaN    299  38\n",
              "43            1                  Ninetales   Fire     NaN    505  73\n",
              "63            1                  Growlithe   Fire     NaN    350  55\n",
              "64            1                   Arcanine   Fire     NaN    555  90\n",
              "83            1                     Ponyta   Fire     NaN    410  50\n",
              "84            1                   Rapidash   Fire     NaN    500  65\n",
              "135           1                     Magmar   Fire     NaN    495  65\n",
              "147           1                    Flareon   Fire     NaN    525  65\n",
              "158           1                    Moltres   Fire  Flying    580  90"
            ]
          },
          "metadata": {
            "tags": []
          },
          "execution_count": 12
        }
      ]
    },
    {
      "cell_type": "markdown",
      "metadata": {
        "id": "SgXXm5GxsHKA"
      },
      "source": [
        "## Exercise #6\n",
        "\n",
        "From the Generation that you've chosen, ouput the mean, median, and standard deviation of the 'HP' column."
      ]
    },
    {
      "cell_type": "code",
      "metadata": {
        "id": "ppZBXANesLWG",
        "colab": {
          "base_uri": "https://localhost:8080/"
        },
        "outputId": "13a32bac-6fd0-4dfb-a31b-d609ecad6267"
      },
      "source": [
        "mean= fire_gen1_subset['HP'].mean()\r\n",
        "median= fire_gen1_subset['HP'].median()\r\n",
        "std= fire_gen1_subset['HP'].std()\r\n",
        "\r\n",
        "print(\"Mean: \",mean, \"Median: \",median,\"Std: \", std)\r\n",
        "\r\n"
      ],
      "execution_count": null,
      "outputs": [
        {
          "output_type": "stream",
          "text": [
            "Mean:  65.85714285714286 Median:  65.0 Std:  16.61721601628468\n"
          ],
          "name": "stdout"
        }
      ]
    },
    {
      "cell_type": "code",
      "metadata": {
        "id": "waapUfaVcaI2"
      },
      "source": [
        ""
      ],
      "execution_count": null,
      "outputs": []
    }
  ]
}